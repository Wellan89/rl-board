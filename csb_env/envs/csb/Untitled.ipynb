{
 "cells": [
  {
   "cell_type": "code",
   "execution_count": 107,
   "metadata": {},
   "outputs": [],
   "source": [
    "from world import World\n",
    "from pod import Pod\n",
    "from move import Move\n",
    "from solution import Solution\n",
    "\n",
    "w = World()\n",
    "[(cp.x, cp.y) for cp in w.circuit.cps]\n",
    "\n",
    "w.pods[0] = Pod(1, 8000, 4000, w)\n",
    "w.pods[1] = Pod(2, 5000, 4000, w)\n",
    "w.pods[2] = Pod(3, 6000, 4000, w)\n",
    "w.pods[3] = Pod(4, 7000, 4000, w)\n",
    "\n",
    "ss_move = Move(g1=0.5, g2=0, g3=0.5)\n",
    "sss = Solution(move1=ss_move, move2=ss_move)\n",
    "go_move = Move(g1=0.5, g2=1, g3=0.5)\n",
    "gos = Solution(move1=go_move, move2=ss_move)"
   ]
  },
  {
   "cell_type": "code",
   "execution_count": 83,
   "metadata": {},
   "outputs": [],
   "source": [
    "w.play(gos, sss)"
   ]
  },
  {
   "cell_type": "code",
   "execution_count": 104,
   "metadata": {},
   "outputs": [
    {
     "name": "stdout",
     "output_type": "stream",
     "text": [
      "21\n",
      "28646 4000\n",
      "5000 4000\n",
      "6000 4000\n",
      "7000 4000\n"
     ]
    }
   ],
   "source": [
    "w.play(gos, sss)\n",
    "print(w.turn)\n",
    "for pod in w.pods:\n",
    "    print(pod.x, pod.y)"
   ]
  },
  {
   "cell_type": "code",
   "execution_count": 1,
   "metadata": {},
   "outputs": [],
   "source": [
    "from env import CsbEnv\n",
    "from pod import Pod\n",
    "\n",
    "e = CsbEnv()\n",
    "e.world.pods[0] = Pod(1, 8000, 4000, e.world)\n",
    "e.world.pods[1] = Pod(2, 5000, 4000, e.world)\n",
    "e.world.pods[2] = Pod(3, 6000, 4000, e.world)\n",
    "e.world.pods[3] = Pod(4, 7000, 4000, e.world)\n",
    "ob, reward, over, debug = e._step([[0.5, 1, 0.5], [0.5, 0, 0.5]])\n"
   ]
  },
  {
   "cell_type": "code",
   "execution_count": 3,
   "metadata": {},
   "outputs": [
    {
     "data": {
      "text/plain": [
       "8200"
      ]
     },
     "execution_count": 3,
     "metadata": {},
     "output_type": "execute_result"
    }
   ],
   "source": [
    "e.world.pods[0].x\n"
   ]
  }
 ],
 "metadata": {
  "kernelspec": {
   "display_name": "Python 3",
   "language": "python",
   "name": "python3"
  },
  "language_info": {
   "codemirror_mode": {
    "name": "ipython",
    "version": 3
   },
   "file_extension": ".py",
   "mimetype": "text/x-python",
   "name": "python",
   "nbconvert_exporter": "python",
   "pygments_lexer": "ipython3",
   "version": "3.6.4"
  }
 },
 "nbformat": 4,
 "nbformat_minor": 2
}
