{
 "cells": [
  {
   "cell_type": "code",
   "execution_count": 1,
   "metadata": {},
   "outputs": [],
   "source": [
    "from envs.csb.world import World\n",
    "\n",
    "w = World()"
   ]
  },
  {
   "cell_type": "code",
   "execution_count": 2,
   "metadata": {},
   "outputs": [
    {
     "name": "stdout",
     "output_type": "stream",
     "text": [
      "4804.4660728394865 6768.356507701726\n",
      "5177.5339271605135 3791.6434922982744\n",
      "4928.822024279829 5776.1188359005755\n",
      "5053.177975720171 4783.8811640994245\n"
     ]
    }
   ],
   "source": [
    "for pod in w.pods:\n",
    "    print(pod.x, pod.y)"
   ]
  },
  {
   "cell_type": "code",
   "execution_count": 4,
   "metadata": {},
   "outputs": [
    {
     "name": "stdout",
     "output_type": "stream",
     "text": [
      "4991 5280\n",
      "11454 6090\n"
     ]
    }
   ],
   "source": [
    "print(w.circuit.cp(0).x, w.circuit.cp(0).y)\n",
    "print(w.circuit.cp(1).x, w.circuit.cp(1).y)"
   ]
  },
  {
   "cell_type": "code",
   "execution_count": null,
   "metadata": {},
   "outputs": [],
   "source": []
  }
 ],
 "metadata": {
  "kernelspec": {
   "display_name": "Python 3",
   "language": "python",
   "name": "python3"
  },
  "language_info": {
   "codemirror_mode": {
    "name": "ipython",
    "version": 3
   },
   "file_extension": ".py",
   "mimetype": "text/x-python",
   "name": "python",
   "nbconvert_exporter": "python",
   "pygments_lexer": "ipython3",
   "version": "3.6.4"
  }
 },
 "nbformat": 4,
 "nbformat_minor": 2
}
