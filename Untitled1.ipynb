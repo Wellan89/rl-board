{
 "cells": [
  {
   "cell_type": "code",
   "execution_count": 1,
   "metadata": {},
   "outputs": [],
   "source": [
    "from envs.csb.env import CsbEnv\n",
    "\n",
    "env = CsbEnv()\n",
    "w = env.world\n"
   ]
  },
  {
   "cell_type": "code",
   "execution_count": 2,
   "metadata": {},
   "outputs": [
    {
     "name": "stdout",
     "output_type": "stream",
     "text": [
      "4202.28515693244 2565.32660831198\n",
      "4899.71484306756 1848.67339168802\n",
      "3504.855470797321 3281.97982493594\n",
      "5597.144529202679 1132.0201750640601\n"
     ]
    }
   ],
   "source": [
    "for pod in w.pods:\n",
    "    print(pod.x, pod.y)"
   ]
  },
  {
   "cell_type": "code",
   "execution_count": 3,
   "metadata": {},
   "outputs": [],
   "source": [
    "from envs.csb.vincent_algo import VincentSalimInterface\n",
    "\n",
    "i = VincentSalimInterface()\n",
    "i.start(w)\n",
    "i.feed(w)"
   ]
  },
  {
   "cell_type": "code",
   "execution_count": 6,
   "metadata": {},
   "outputs": [
    {
     "data": {
      "text/plain": [
       "{'x': 8304.818564057892, 'y': 5570.456769249666}"
      ]
     },
     "execution_count": 6,
     "metadata": {},
     "output_type": "execute_result"
    }
   ],
   "source": [
    "vars(i.generateCommand(0)[0].target)"
   ]
  }
 ],
 "metadata": {
  "kernelspec": {
   "display_name": "Python 3",
   "language": "python",
   "name": "python3"
  },
  "language_info": {
   "codemirror_mode": {
    "name": "ipython",
    "version": 3
   },
   "file_extension": ".py",
   "mimetype": "text/x-python",
   "name": "python",
   "nbconvert_exporter": "python",
   "pygments_lexer": "ipython3",
   "version": "3.5.3"
  }
 },
 "nbformat": 4,
 "nbformat_minor": 2
}
